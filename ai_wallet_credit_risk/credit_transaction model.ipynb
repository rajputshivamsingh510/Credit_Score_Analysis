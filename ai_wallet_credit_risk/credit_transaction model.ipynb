{
 "cells": [
  {
   "cell_type": "markdown",
   "id": "3c2dbc0a",
   "metadata": {},
   "source": [
    "# ML-Based DeFi Credit Scoring Model – ZIP-Compatible Version\n",
    "This notebook extracts wallet transaction data from a ZIP file, processes it, and builds a Random Forest model to generate DeFi credit scores."
   ]
  },
  {
   "cell_type": "code",
   "execution_count": null,
   "id": "e78d6e5a",
   "metadata": {},
   "outputs": [],
   "source": [
    "import json\n",
    "import zipfile\n",
    "import os\n",
    "import pandas as pd\n",
    "import numpy as np\n",
    "import matplotlib.pyplot as plt\n",
    "from sklearn.preprocessing import StandardScaler\n",
    "from sklearn.ensemble import RandomForestRegressor\n",
    "from sklearn.model_selection import train_test_split\n",
    "import seaborn as sns"
   ]
  },
  {
   "cell_type": "markdown",
   "id": "c0eceff0",
   "metadata": {},
   "source": [
    "## 1. Extract JSON from ZIP"
   ]
  },
  {
   "cell_type": "code",
   "execution_count": 12,
   "id": "11b54585",
   "metadata": {},
   "outputs": [
    {
     "data": {
      "text/html": [
       "<div>\n",
       "<style scoped>\n",
       "    .dataframe tbody tr th:only-of-type {\n",
       "        vertical-align: middle;\n",
       "    }\n",
       "\n",
       "    .dataframe tbody tr th {\n",
       "        vertical-align: top;\n",
       "    }\n",
       "\n",
       "    .dataframe thead th {\n",
       "        text-align: right;\n",
       "    }\n",
       "</style>\n",
       "<table border=\"1\" class=\"dataframe\">\n",
       "  <thead>\n",
       "    <tr style=\"text-align: right;\">\n",
       "      <th></th>\n",
       "      <th>_id</th>\n",
       "      <th>userWallet</th>\n",
       "      <th>network</th>\n",
       "      <th>protocol</th>\n",
       "      <th>txHash</th>\n",
       "      <th>logId</th>\n",
       "      <th>timestamp</th>\n",
       "      <th>blockNumber</th>\n",
       "      <th>action</th>\n",
       "      <th>actionData</th>\n",
       "      <th>__v</th>\n",
       "      <th>createdAt</th>\n",
       "      <th>updatedAt</th>\n",
       "    </tr>\n",
       "  </thead>\n",
       "  <tbody>\n",
       "    <tr>\n",
       "      <th>0</th>\n",
       "      <td>{'$oid': '681d38fed63812d4655f571a'}</td>\n",
       "      <td>0x00000000001accfa9cef68cf5371a23025b6d4b6</td>\n",
       "      <td>polygon</td>\n",
       "      <td>aave_v2</td>\n",
       "      <td>0x695c69acf608fbf5d38e48ca5535e118cc213a89e3d6...</td>\n",
       "      <td>0x695c69acf608fbf5d38e48ca5535e118cc213a89e3d6...</td>\n",
       "      <td>1629178166</td>\n",
       "      <td>1629178166</td>\n",
       "      <td>deposit</td>\n",
       "      <td>{'type': 'Deposit', 'amount': '2000000000', 'a...</td>\n",
       "      <td>0</td>\n",
       "      <td>{'$date': '2025-05-08T23:06:39.465Z'}</td>\n",
       "      <td>{'$date': '2025-05-08T23:06:39.465Z'}</td>\n",
       "    </tr>\n",
       "    <tr>\n",
       "      <th>1</th>\n",
       "      <td>{'$oid': '681aa70dd6df53021cc6f3c0'}</td>\n",
       "      <td>0x000000000051d07a4fb3bd10121a343d85818da6</td>\n",
       "      <td>polygon</td>\n",
       "      <td>aave_v2</td>\n",
       "      <td>0xe6fc162c86b2928b0ba9b82bda672763665152b9de9d...</td>\n",
       "      <td>0xe6fc162c86b2928b0ba9b82bda672763665152b9de9d...</td>\n",
       "      <td>1621525013</td>\n",
       "      <td>1621525013</td>\n",
       "      <td>deposit</td>\n",
       "      <td>{'type': 'Deposit', 'amount': '145000000000000...</td>\n",
       "      <td>0</td>\n",
       "      <td>{'$date': '2025-05-07T00:19:26.159Z'}</td>\n",
       "      <td>{'$date': '2025-05-07T00:19:26.159Z'}</td>\n",
       "    </tr>\n",
       "    <tr>\n",
       "      <th>2</th>\n",
       "      <td>{'$oid': '681d04c2d63812d4654c733e'}</td>\n",
       "      <td>0x000000000096026fb41fc39f9875d164bd82e2dc</td>\n",
       "      <td>polygon</td>\n",
       "      <td>aave_v2</td>\n",
       "      <td>0xe2d7eb815c89331a734ed6f204a06c385a1b39040baa...</td>\n",
       "      <td>0xe2d7eb815c89331a734ed6f204a06c385a1b39040baa...</td>\n",
       "      <td>1627118913</td>\n",
       "      <td>1627118913</td>\n",
       "      <td>deposit</td>\n",
       "      <td>{'type': 'Deposit', 'amount': '100000000000000...</td>\n",
       "      <td>0</td>\n",
       "      <td>{'$date': '2025-05-08T19:23:47.877Z'}</td>\n",
       "      <td>{'$date': '2025-05-08T19:23:47.877Z'}</td>\n",
       "    </tr>\n",
       "    <tr>\n",
       "      <th>3</th>\n",
       "      <td>{'$oid': '681d133bd63812d46551b6ef'}</td>\n",
       "      <td>0x000000000096026fb41fc39f9875d164bd82e2dc</td>\n",
       "      <td>polygon</td>\n",
       "      <td>aave_v2</td>\n",
       "      <td>0x0d63a2eacd82b82f868db825ea7385e6bd8d046ee729...</td>\n",
       "      <td>0x0d63a2eacd82b82f868db825ea7385e6bd8d046ee729...</td>\n",
       "      <td>1627773318</td>\n",
       "      <td>1627773318</td>\n",
       "      <td>deposit</td>\n",
       "      <td>{'type': 'Deposit', 'amount': '400000000000000...</td>\n",
       "      <td>0</td>\n",
       "      <td>{'$date': '2025-05-08T20:25:33.141Z'}</td>\n",
       "      <td>{'$date': '2025-05-08T20:25:33.141Z'}</td>\n",
       "    </tr>\n",
       "    <tr>\n",
       "      <th>4</th>\n",
       "      <td>{'$oid': '681899e4ba49fc91cf2f4454'}</td>\n",
       "      <td>0x0000000000e189dd664b9ab08a33c4839953852c</td>\n",
       "      <td>polygon</td>\n",
       "      <td>aave_v2</td>\n",
       "      <td>0x590eabb812c5006a6f4766f44e6e9d3ad0b5b563de69...</td>\n",
       "      <td>0x590eabb812c5006a6f4766f44e6e9d3ad0b5b563de69...</td>\n",
       "      <td>1618845907</td>\n",
       "      <td>1618845907</td>\n",
       "      <td>redeemunderlying</td>\n",
       "      <td>{'type': 'RedeemUnderlying', 'amount': '501548...</td>\n",
       "      <td>0</td>\n",
       "      <td>{'$date': '2025-05-05T10:58:45.934Z'}</td>\n",
       "      <td>{'$date': '2025-05-05T10:58:45.934Z'}</td>\n",
       "    </tr>\n",
       "  </tbody>\n",
       "</table>\n",
       "</div>"
      ],
      "text/plain": [
       "                                    _id  \\\n",
       "0  {'$oid': '681d38fed63812d4655f571a'}   \n",
       "1  {'$oid': '681aa70dd6df53021cc6f3c0'}   \n",
       "2  {'$oid': '681d04c2d63812d4654c733e'}   \n",
       "3  {'$oid': '681d133bd63812d46551b6ef'}   \n",
       "4  {'$oid': '681899e4ba49fc91cf2f4454'}   \n",
       "\n",
       "                                   userWallet  network protocol  \\\n",
       "0  0x00000000001accfa9cef68cf5371a23025b6d4b6  polygon  aave_v2   \n",
       "1  0x000000000051d07a4fb3bd10121a343d85818da6  polygon  aave_v2   \n",
       "2  0x000000000096026fb41fc39f9875d164bd82e2dc  polygon  aave_v2   \n",
       "3  0x000000000096026fb41fc39f9875d164bd82e2dc  polygon  aave_v2   \n",
       "4  0x0000000000e189dd664b9ab08a33c4839953852c  polygon  aave_v2   \n",
       "\n",
       "                                              txHash  \\\n",
       "0  0x695c69acf608fbf5d38e48ca5535e118cc213a89e3d6...   \n",
       "1  0xe6fc162c86b2928b0ba9b82bda672763665152b9de9d...   \n",
       "2  0xe2d7eb815c89331a734ed6f204a06c385a1b39040baa...   \n",
       "3  0x0d63a2eacd82b82f868db825ea7385e6bd8d046ee729...   \n",
       "4  0x590eabb812c5006a6f4766f44e6e9d3ad0b5b563de69...   \n",
       "\n",
       "                                               logId   timestamp  blockNumber  \\\n",
       "0  0x695c69acf608fbf5d38e48ca5535e118cc213a89e3d6...  1629178166   1629178166   \n",
       "1  0xe6fc162c86b2928b0ba9b82bda672763665152b9de9d...  1621525013   1621525013   \n",
       "2  0xe2d7eb815c89331a734ed6f204a06c385a1b39040baa...  1627118913   1627118913   \n",
       "3  0x0d63a2eacd82b82f868db825ea7385e6bd8d046ee729...  1627773318   1627773318   \n",
       "4  0x590eabb812c5006a6f4766f44e6e9d3ad0b5b563de69...  1618845907   1618845907   \n",
       "\n",
       "             action                                         actionData  __v  \\\n",
       "0           deposit  {'type': 'Deposit', 'amount': '2000000000', 'a...    0   \n",
       "1           deposit  {'type': 'Deposit', 'amount': '145000000000000...    0   \n",
       "2           deposit  {'type': 'Deposit', 'amount': '100000000000000...    0   \n",
       "3           deposit  {'type': 'Deposit', 'amount': '400000000000000...    0   \n",
       "4  redeemunderlying  {'type': 'RedeemUnderlying', 'amount': '501548...    0   \n",
       "\n",
       "                               createdAt  \\\n",
       "0  {'$date': '2025-05-08T23:06:39.465Z'}   \n",
       "1  {'$date': '2025-05-07T00:19:26.159Z'}   \n",
       "2  {'$date': '2025-05-08T19:23:47.877Z'}   \n",
       "3  {'$date': '2025-05-08T20:25:33.141Z'}   \n",
       "4  {'$date': '2025-05-05T10:58:45.934Z'}   \n",
       "\n",
       "                               updatedAt  \n",
       "0  {'$date': '2025-05-08T23:06:39.465Z'}  \n",
       "1  {'$date': '2025-05-07T00:19:26.159Z'}  \n",
       "2  {'$date': '2025-05-08T19:23:47.877Z'}  \n",
       "3  {'$date': '2025-05-08T20:25:33.141Z'}  \n",
       "4  {'$date': '2025-05-05T10:58:45.934Z'}  "
      ]
     },
     "execution_count": 12,
     "metadata": {},
     "output_type": "execute_result"
    }
   ],
   "source": [
    "with open('user-wallet-transactions.json','r') as f:\n",
    "  data = json.load(f)\n",
    "\n",
    "df=pd.DataFrame(data)\n",
    "\n",
    "df.head()"
   ]
  },
  {
   "cell_type": "markdown",
   "id": "7a730da0",
   "metadata": {},
   "source": [
    "## 2. Load and preprocess data"
   ]
  },
  {
   "cell_type": "code",
   "execution_count": 13,
   "id": "6e955419",
   "metadata": {},
   "outputs": [],
   "source": [
    "\n",
    "\n",
    "df = pd.DataFrame(data)\n",
    "df['wallet'] = df['userWallet']\n",
    "df['timestamp'] = pd.to_datetime(df['timestamp'], unit='s')\n",
    "df['action'] = df['action'].str.lower()\n",
    "df['amount'] = df['actionData'].apply(lambda x: float(x.get('amount', 0)) / 1e6)"
   ]
  },
  {
   "cell_type": "markdown",
   "id": "896bd8d0",
   "metadata": {},
   "source": [
    "## 3. Aggregate Features"
   ]
  },
  {
   "cell_type": "code",
   "execution_count": 14,
   "id": "4cf01ce2",
   "metadata": {},
   "outputs": [],
   "source": [
    "agg = df.groupby('wallet').agg(\n",
    "    txn_count=('action', 'count'),\n",
    "    total_amount=('amount', 'sum'),\n",
    "    avg_amount=('amount', 'mean'),\n",
    "    amount_std=('amount', 'std'),\n",
    "    max_amount=('amount', 'max'),\n",
    "    unique_actions=('action', pd.Series.nunique)\n",
    ")\n",
    "\n",
    "action_counts = df.pivot_table(index='wallet', columns='action', aggfunc='size', fill_value=0)\n",
    "for col in ['deposit', 'borrow', 'repay', 'redeemunderlying', 'liquidationcall']:\n",
    "    if col not in action_counts.columns:\n",
    "        action_counts[col] = 0\n",
    "\n",
    "features = pd.concat([agg, action_counts], axis=1).fillna(0)\n",
    "features['repay_ratio'] = np.where(features['borrow'] > 0, features['repay'] / features['borrow'], 1.0)\n",
    "features['deposit_ratio'] = np.where(features['txn_count'] > 0, features['deposit'] / features['txn_count'], 0)"
   ]
  },
  {
   "cell_type": "markdown",
   "id": "bfbbfb28",
   "metadata": {},
   "source": [
    "## 4. Create Target Labels"
   ]
  },
  {
   "cell_type": "code",
   "execution_count": 15,
   "id": "ec02c1a3",
   "metadata": {},
   "outputs": [],
   "source": [
    "def create_target_labels(features):\n",
    "    target = np.full(len(features), 500.0)\n",
    "    target += features['deposit'] * 20\n",
    "    target += features['repay'] * 25\n",
    "    target += features['repay_ratio'] * 100\n",
    "    target += features['unique_actions'] * 15\n",
    "    target += np.log1p(features['txn_count']) * 30\n",
    "    target -= features['liquidationcall'] * 150\n",
    "    target -= np.maximum(0, features['borrow'] - features['repay']) * 20\n",
    "    volatility_penalty = np.where(\n",
    "        features['amount_std'] > features['avg_amount'] * 2,\n",
    "        -100,\n",
    "        0\n",
    "    )\n",
    "    target += volatility_penalty\n",
    "    np.random.seed(42)\n",
    "    noise = np.random.normal(0, 20, len(target))\n",
    "    target += noise\n",
    "    return np.clip(target, 0, 1000)\n",
    "\n",
    "y = create_target_labels(features)"
   ]
  },
  {
   "cell_type": "markdown",
   "id": "db59a464",
   "metadata": {},
   "source": [
    "## 5. Prepare Features for ML"
   ]
  },
  {
   "cell_type": "code",
   "execution_count": 16,
   "id": "66d0f63d",
   "metadata": {},
   "outputs": [],
   "source": [
    "X = features.drop(columns=['txn_count'])\n",
    "X = X.replace([np.inf, -np.inf], 0).fillna(0)\n",
    "scaler = StandardScaler()\n",
    "X_scaled = scaler.fit_transform(X)\n",
    "\n",
    "X_train, X_test, y_train, y_test = train_test_split(X_scaled, y, test_size=0.2, random_state=42)"
   ]
  },
  {
   "cell_type": "markdown",
   "id": "9cd88a40",
   "metadata": {},
   "source": [
    "## 6. Train Random Forest Model"
   ]
  },
  {
   "cell_type": "code",
   "execution_count": 17,
   "id": "60631dbe",
   "metadata": {},
   "outputs": [],
   "source": [
    "model = RandomForestRegressor(n_estimators=100, max_depth=10, min_samples_split=5, random_state=42)\n",
    "model.fit(X_train, y_train)\n",
    "\n",
    "credit_scores = model.predict(X_scaled)\n",
    "credit_scores = np.clip(credit_scores, 0, 1000).astype(int)\n",
    "\n",
    "output = pd.DataFrame({\n",
    "    'wallet': features.index,\n",
    "    'credit_score': credit_scores\n",
    "})"
   ]
  },
  {
   "cell_type": "markdown",
   "id": "f1e8bd1c",
   "metadata": {},
   "source": [
    "## 7. Evaluate Model and Feature Importance"
   ]
  },
  {
   "cell_type": "code",
   "execution_count": 18,
   "id": "7333e868",
   "metadata": {},
   "outputs": [
    {
     "name": "stdout",
     "output_type": "stream",
     "text": [
      "Model Performance:\n",
      "Training R²: 0.970\n",
      "Testing R²: 0.937\n",
      "\n",
      "Top 5 Important Features:\n",
      "            feature  importance\n",
      "9             repay    0.590924\n",
      "6           deposit    0.152821\n",
      "7   liquidationcall    0.116788\n",
      "10      repay_ratio    0.061562\n",
      "11    deposit_ratio    0.022957\n",
      "\n",
      "Credit Score Distribution:\n",
      "Mean: 740.5\n",
      "Min: 39\n",
      "Max: 1000\n",
      "Std: 144.0\n"
     ]
    }
   ],
   "source": [
    "print(\"Model Performance:\")\n",
    "print(f\"Training R²: {model.score(X_train, y_train):.3f}\")\n",
    "print(f\"Testing R²: {model.score(X_test, y_test):.3f}\")\n",
    "\n",
    "feature_importance = pd.DataFrame({\n",
    "    'feature': X.columns,\n",
    "    'importance': model.feature_importances_\n",
    "}).sort_values('importance', ascending=False)\n",
    "\n",
    "print(\"\\nTop 5 Important Features:\")\n",
    "print(feature_importance.head())\n",
    "\n",
    "print(\"\\nCredit Score Distribution:\")\n",
    "print(f\"Mean: {output['credit_score'].mean():.1f}\")\n",
    "print(f\"Min: {output['credit_score'].min()}\")\n",
    "print(f\"Max: {output['credit_score'].max()}\")\n",
    "print(f\"Std: {output['credit_score'].std():.1f}\")"
   ]
  },
  {
   "cell_type": "markdown",
   "id": "7ff5d3d3",
   "metadata": {},
   "source": [
    "## 8. Plot Score Distribution and Feature Importance"
   ]
  },
  {
   "cell_type": "code",
   "execution_count": 23,
   "id": "123eea67",
   "metadata": {},
   "outputs": [
    {
     "data": {
      "image/png": "[encoded data removed]",
      "text/plain": [
       "<Figure size 1200x400 with 2 Axes>"
      ]
     },
     "metadata": {},
     "output_type": "display_data"
    }
   ],
   "source": [
    "plt.figure(figsize=(12, 4))\n",
    "\n",
    "plt.subplot(1, 2, 1)\n",
    "sns.histplot(output['credit_score'], bins=30, alpha=0.7, color='skyblue', kde=True)\n",
    "plt.title('Credit Score Distribution')\n",
    "plt.xlabel('Credit Score')\n",
    "plt.ylabel('Number of Wallets')\n",
    "plt.grid(True, alpha=0.3)\n",
    "\n",
    "plt.subplot(1, 2, 2)\n",
    "plt.bar(feature_importance.head(8)['feature'], feature_importance.head(8)['importance'])\n",
    "plt.title('Top 8 Feature Importances')\n",
    "plt.xticks(rotation=45)\n",
    "plt.tight_layout()\n",
    "plt.show()"
   ]
  }
 ],
 "metadata": {
  "kernelspec": {
   "display_name": "Python 3",
   "language": "python",
   "name": "python3"
  },
  "language_info": {
   "codemirror_mode": {
    "name": "ipython",
    "version": 3
   },
   "file_extension": ".py",
   "mimetype": "text/x-python",
   "name": "python",
   "nbconvert_exporter": "python",
   "pygments_lexer": "ipython3",
   "version": "3.11.2"
  }
 },
 "nbformat": 4,
 "nbformat_minor": 5
}
